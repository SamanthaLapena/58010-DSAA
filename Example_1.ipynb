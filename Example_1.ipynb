{
  "nbformat": 4,
  "nbformat_minor": 0,
  "metadata": {
    "colab": {
      "provenance": [],
      "authorship_tag": "ABX9TyNnm0kzVIW3GfEwbnxfS0qA",
      "include_colab_link": true
    },
    "kernelspec": {
      "name": "python3",
      "display_name": "Python 3"
    },
    "language_info": {
      "name": "python"
    }
  },
  "cells": [
    {
      "cell_type": "markdown",
      "metadata": {
        "id": "view-in-github",
        "colab_type": "text"
      },
      "source": [
        "<a href=\"https://colab.research.google.com/github/SamanthaLapena/58010-DSAA/blob/main/Example_1.ipynb\" target=\"_parent\"><img src=\"https://colab.research.google.com/assets/colab-badge.svg\" alt=\"Open In Colab\"/></a>"
      ]
    },
    {
      "cell_type": "markdown",
      "source": [
        "Area of a rectangle"
      ],
      "metadata": {
        "id": "uCLvLePAP_b6"
      }
    },
    {
      "cell_type": "code",
      "execution_count": 3,
      "metadata": {
        "colab": {
          "base_uri": "https://localhost:8080/"
        },
        "id": "_BK4Gf7iP-60",
        "outputId": "5324ecde-3076-4c72-b366-061ec7372cef"
      },
      "outputs": [
        {
          "output_type": "stream",
          "name": "stdout",
          "text": [
            "Enter the width of the rectangle is 5\n",
            "Enter the length of the rectangle is 3\n",
            "Thea area of the rectangle is 15.0\n"
          ]
        }
      ],
      "source": [
        "width = float(input(\"Enter the width of the rectangle is \"))\n",
        "length = float(input(\"Enter the length of the rectangle is \"))\n",
        "area = width*length\n",
        "print(\"Thea area of the rectangle is\", area)"
      ]
    }
  ]
}