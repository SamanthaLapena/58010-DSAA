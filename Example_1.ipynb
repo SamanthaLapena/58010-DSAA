{
  "nbformat": 4,
  "nbformat_minor": 0,
  "metadata": {
    "colab": {
      "provenance": [],
      "authorship_tag": "ABX9TyOekQtnVZ1qIpjIP6aGyvMv",
      "include_colab_link": true
    },
    "kernelspec": {
      "name": "python3",
      "display_name": "Python 3"
    },
    "language_info": {
      "name": "python"
    }
  },
  "cells": [
    {
      "cell_type": "markdown",
      "metadata": {
        "id": "view-in-github",
        "colab_type": "text"
      },
      "source": [
        "<a href=\"https://colab.research.google.com/github/SamanthaLapena/58010-DSAA/blob/main/Example_1.ipynb\" target=\"_parent\"><img src=\"https://colab.research.google.com/assets/colab-badge.svg\" alt=\"Open In Colab\"/></a>"
      ]
    },
    {
      "cell_type": "markdown",
      "source": [
        "Area of a rectangle"
      ],
      "metadata": {
        "id": "qUR6I6gusA8T"
      }
    },
    {
      "cell_type": "code",
      "execution_count": 1,
      "metadata": {
        "colab": {
          "base_uri": "https://localhost:8080/"
        },
        "id": "IeAUTBJBsAN7",
        "outputId": "da5f6d6d-5348-4841-9493-e18acd93f3c4"
      },
      "outputs": [
        {
          "output_type": "stream",
          "name": "stdout",
          "text": [
            "Enter the width of the rectangle: 3\n",
            "Enter the length of the rectangle: 5\n",
            "The area of the rectangle is 15.0\n"
          ]
        }
      ],
      "source": [
        "width = float(input(\"Enter the width of the rectangle: \"))\n",
        "length = float(input(\"Enter the length of the rectangle: \"))\n",
        "area = width*length\n",
        "print(\"The area of the rectangle is\", area)"
      ]
    }
  ]
}