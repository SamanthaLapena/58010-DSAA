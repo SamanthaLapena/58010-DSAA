{
  "nbformat": 4,
  "nbformat_minor": 0,
  "metadata": {
    "colab": {
      "provenance": [],
      "authorship_tag": "ABX9TyNcEFkdCMohu926WUloWYKm",
      "include_colab_link": true
    },
    "kernelspec": {
      "name": "python3",
      "display_name": "Python 3"
    },
    "language_info": {
      "name": "python"
    }
  },
  "cells": [
    {
      "cell_type": "markdown",
      "metadata": {
        "id": "view-in-github",
        "colab_type": "text"
      },
      "source": [
        "<a href=\"https://colab.research.google.com/github/SamanthaLapena/58010-DSAA/blob/main/Midterm_Exam.ipynb\" target=\"_parent\"><img src=\"https://colab.research.google.com/assets/colab-badge.svg\" alt=\"Open In Colab\"/></a>"
      ]
    },
    {
      "cell_type": "markdown",
      "source": [
        "EDGES"
      ],
      "metadata": {
        "id": "yolbVDC-dln8"
      }
    },
    {
      "cell_type": "code",
      "execution_count": 3,
      "metadata": {
        "colab": {
          "base_uri": "https://localhost:8080/"
        },
        "id": "XHadFUJZXKeq",
        "outputId": "ea81a494-0793-4a06-f606-43c5f5b9a4c0"
      },
      "outputs": [
        {
          "output_type": "stream",
          "name": "stdout",
          "text": [
            "[{'B', 'A'}, {'B', 'C'}, {'B', 'E'}, {'B', 'F'}, {'D', 'C'}, {'C', 'E'}, {'C', 'F'}, {'C', 'I'}, {'C', 'M'}, {'K', 'D'}, {'L', 'D'}, {'N', 'E'}, {'F', 'G'}, {'F', 'I'}, {'G', 'I'}, {'J', 'G'}, {'J', 'I'}, {'K', 'I'}, {'J', 'K'}, {'L', 'M'}, {'L', 'P'}, {'N', 'M'}, {'O', 'M'}, {'P', 'M'}, {'N', 'O'}, {'P', 'O'}]\n"
          ]
        }
      ],
      "source": [
        "\n",
        "class graph:\n",
        "  def __init__(self,gdict=None):\n",
        "    if gdict is None:\n",
        "      gdict = {}\n",
        "    self.gdict = gdict\n",
        "\n",
        "  def edges(self):\n",
        "    return self.findedges()\n",
        "\n",
        "  def findedges(self):\n",
        "    edgename = []\n",
        "    for vrtx in self.gdict:\n",
        "      for nxtvrtx in self.gdict[vrtx]:\n",
        "        if {nxtvrtx, vrtx} not in edgename:\n",
        "          edgename.append({vrtx, nxtvrtx})\n",
        "    return edgename\n",
        "\n",
        "graph_elements = {\n",
        "    \"A\" : [\"B\"],\n",
        "    \"B\" : [\"C\",\"E\",\"F\"],\n",
        "    \"C\" : [\"B\",\"D\",\"E\",\"F\",\"I\",\"M\"],\n",
        "    \"D\" : [\"C\",\"K\",\"L\"],\n",
        "    \"E\" : [\"B\",\"C\",\"N\"],\n",
        "    \"F\" : [\"B\",\"C\",\"G\",\"I\"],\n",
        "    \"G\" : [\"F\",\"I\",\"J\"],\n",
        "    \"I\" : [\"C\",\"F\",\"G\",\"J\",\"K\"],\n",
        "    \"J\" : [\"G\",\"I\",\"K\"],\n",
        "    \"K\" : [\"D\",\"I\",\"J\"],\n",
        "    \"L\" : [\"D\",\"M\",\"P\"],\n",
        "    \"M\" : [\"C\",\"L\",\"N\",\"O\",\"P\"],\n",
        "    \"N\" : [\"E\",\"M\",\"O\"],\n",
        "    \"O\" : [\"M\",\"N\",\"P\"],\n",
        "    \"P\" : [\"L\",\"M\",\"O\"],\n",
        "  }\n",
        "\n",
        "g = graph(graph_elements)\n",
        "print(g.edges())"
      ]
    },
    {
      "cell_type": "markdown",
      "source": [
        "VERTICES"
      ],
      "metadata": {
        "id": "yWwuTj5Bc3S0"
      }
    },
    {
      "cell_type": "code",
      "source": [
        "class graph:\n",
        "  def __init__(self,gdict=None):\n",
        "    if gdict is None:\n",
        "      gdict = []\n",
        "    self.gdict = gdict\n",
        "\n",
        "  def getVertices(self):\n",
        "    return list(self.gdict.keys())\n",
        "\n",
        "graph_elements = {\n",
        "    \"A\" : [\"B\"],\n",
        "    \"B\" : [\"C\",\"E\",\"F\"],\n",
        "    \"C\" : [\"B\",\"D\",\"E\",\"F\",\"I\",\"M\"],\n",
        "    \"D\" : [\"C\",\"K\",\"L\"],\n",
        "    \"E\" : [\"B\",\"C\",\"N\"],\n",
        "    \"F\" : [\"B\",\"C\",\"G\",\"I\"],\n",
        "    \"G\" : [\"F\",\"I\",\"J\"],\n",
        "    \"I\" : [\"C\",\"F\",\"G\",\"J\",\"K\"],\n",
        "    \"J\" : [\"G\",\"I\",\"K\"],\n",
        "    \"K\" : [\"D\",\"I\",\"J\"],\n",
        "    \"L\" : [\"D\",\"M\",\"P\"],\n",
        "    \"M\" : [\"C\",\"L\",\"N\",\"O\",\"P\"],\n",
        "    \"N\" : [\"E\",\"M\",\"O\"],\n",
        "    \"O\" : [\"M\",\"N\",\"P\"],\n",
        "    \"P\" : [\"L\",\"M\",\"O\"],\n",
        "  }\n",
        "\n",
        "g = graph(graph_elements)\n",
        "print(g.getVertices())"
      ],
      "metadata": {
        "colab": {
          "base_uri": "https://localhost:8080/"
        },
        "id": "zMT3QRwSgBx9",
        "outputId": "77bce9f0-8837-48c0-c3a8-106725408ce1"
      },
      "execution_count": 4,
      "outputs": [
        {
          "output_type": "stream",
          "name": "stdout",
          "text": [
            "['A', 'B', 'C', 'D', 'E', 'F', 'G', 'I', 'J', 'K', 'L', 'M', 'N', 'O', 'P']\n"
          ]
        }
      ]
    }
  ]
}