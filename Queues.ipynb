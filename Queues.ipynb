{
  "nbformat": 4,
  "nbformat_minor": 0,
  "metadata": {
    "colab": {
      "provenance": [],
      "authorship_tag": "ABX9TyPYGK4j3/9PJ2coSbrHTEtC",
      "include_colab_link": true
    },
    "kernelspec": {
      "name": "python3",
      "display_name": "Python 3"
    },
    "language_info": {
      "name": "python"
    }
  },
  "cells": [
    {
      "cell_type": "markdown",
      "metadata": {
        "id": "view-in-github",
        "colab_type": "text"
      },
      "source": [
        "<a href=\"https://colab.research.google.com/github/SamanthaLapena/58010-DSAA/blob/main/Queues.ipynb\" target=\"_parent\"><img src=\"https://colab.research.google.com/assets/colab-badge.svg\" alt=\"Open In Colab\"/></a>"
      ]
    },
    {
      "cell_type": "code",
      "source": [
        "#inserting\n",
        "Queue = []\n",
        "Queue.append('A')\n",
        "Queue.append('B')\n",
        "Queue.append('C')\n",
        "print(Queue)\n",
        "\n",
        "#removing\n",
        "Queue.pop(0)\n",
        "Queue.pop(0)\n",
        "Queue.pop(0)\n",
        "print(Queue)"
      ],
      "metadata": {
        "colab": {
          "base_uri": "https://localhost:8080/"
        },
        "id": "QVrH7d2CKcz7",
        "outputId": "9a0b5791-f5fe-4376-e417-122ddf78782a"
      },
      "execution_count": 12,
      "outputs": [
        {
          "output_type": "stream",
          "name": "stdout",
          "text": [
            "['A', 'B', 'C']\n",
            "[]\n"
          ]
        }
      ]
    }
  ]
}