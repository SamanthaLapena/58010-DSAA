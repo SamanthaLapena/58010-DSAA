{
  "nbformat": 4,
  "nbformat_minor": 0,
  "metadata": {
    "colab": {
      "provenance": [],
      "authorship_tag": "ABX9TyNrbcM6K3Y8XXLkjfCn0dEF",
      "include_colab_link": true
    },
    "kernelspec": {
      "name": "python3",
      "display_name": "Python 3"
    },
    "language_info": {
      "name": "python"
    }
  },
  "cells": [
    {
      "cell_type": "markdown",
      "metadata": {
        "id": "view-in-github",
        "colab_type": "text"
      },
      "source": [
        "<a href=\"https://colab.research.google.com/github/SamanthaLapena/58010-DSAA/blob/main/Stacks.ipynb\" target=\"_parent\"><img src=\"https://colab.research.google.com/assets/colab-badge.svg\" alt=\"Open In Colab\"/></a>"
      ]
    },
    {
      "cell_type": "code",
      "source": [
        "class Stack:\n",
        "\n",
        "    def __init__(self):\n",
        "        self.stack = []\n",
        "\n",
        "    def add(self, dataval):\n",
        "        if dataval not in self.stack:\n",
        "            self.stack.append(dataval)\n",
        "            return True\n",
        "        else:\n",
        "            return False\n",
        "\n",
        "    def remove(self):\n",
        "        if len(self.stack) <= 0:\n",
        "            return \"No element in the Stack\"\n",
        "        else:\n",
        "            return self.stack.pop()\n",
        "\n",
        "AStack = Stack()\n",
        "AStack.add(\"Mon\")\n",
        "AStack.add(\"Tue\")\n",
        "AStack.add(\"Wed\")\n",
        "AStack.add(\"Thu\")\n",
        "AStack.add(\"Fri\")\n",
        "AStack.add(\"Sat\")\n",
        "AStack.add(\"Sun\")\n",
        "print(AStack.stack)\n",
        "print(AStack.remove())\n",
        "print(AStack.stack)"
      ],
      "metadata": {
        "colab": {
          "base_uri": "https://localhost:8080/"
        },
        "id": "STEHBgVx6_rB",
        "outputId": "6c17756e-c5f2-46ca-fa32-b8587aeca8f0"
      },
      "execution_count": 11,
      "outputs": [
        {
          "output_type": "stream",
          "name": "stdout",
          "text": [
            "['Mon', 'Tue', 'Wed', 'Thu', 'Fri', 'Sat', 'Sun']\n",
            "Sun\n",
            "['Mon', 'Tue', 'Wed', 'Thu', 'Fri', 'Sat']\n"
          ]
        }
      ]
    },
    {
      "cell_type": "code",
      "source": [
        "class Queue:\n",
        "    def __init__(self):\n",
        "        self.items = []\n",
        "\n",
        "    def enqueue(self, item):\n",
        "        self.items.append(item)\n",
        "\n",
        "    def dequeue(self):\n",
        "        if not self.is_empty():\n",
        "            return self.items.pop(0)\n",
        "        else:\n",
        "            return \"error\"\n",
        "\n",
        "    def is_empty(self):\n",
        "        return len(self.items) == 0\n",
        "\n",
        "    def first(self):\n",
        "        if not self.is_empty():\n",
        "            return self.items[0]\n",
        "        else:\n",
        "            return \"error\"\n",
        "\n",
        "    def __len__(self):\n",
        "        return len(self.items)\n",
        "\n",
        "Q = Queue()\n",
        "\n",
        "Q.enqueue(5)\n",
        "print(Q.items)\n",
        "\n",
        "Q.enqueue(3)\n",
        "print(Q.items)\n",
        "\n",
        "print(len(Q))\n",
        "print(Q.items)\n",
        "\n",
        "Q.enqueue(5)\n",
        "print(Q.dequeue())\n",
        "print(Q.items)\n",
        "\n",
        "print(Q.is_empty())\n",
        "print(Q.items)\n",
        "\n",
        "print(Q.dequeue())\n",
        "print(Q.items)\n",
        "\n",
        "print(Q.dequeue())\n",
        "print(Q.items)\n",
        "\n",
        "Q.enqueue(7)\n",
        "print(Q.items)\n",
        "\n",
        "Q.enqueue(9)\n",
        "print(Q.items)\n",
        "\n",
        "print(Q.first())\n",
        "print(Q.items)\n",
        "\n",
        "Q.enqueue(4)\n",
        "print(Q.items)\n",
        "\n",
        "print(len(Q))\n",
        "print(Q.items)\n",
        "\n",
        "print(Q.dequeue())\n",
        "print(Q.items)\n"
      ],
      "metadata": {
        "colab": {
          "base_uri": "https://localhost:8080/"
        },
        "id": "i8SaEtiT9d7v",
        "outputId": "0203fbbf-e8a1-4835-f80e-97e6870720f3"
      },
      "execution_count": 5,
      "outputs": [
        {
          "output_type": "stream",
          "name": "stdout",
          "text": [
            "[5]\n",
            "[5, 3]\n",
            "2\n",
            "[5, 3]\n",
            "5\n",
            "[3, 5]\n",
            "False\n",
            "[3, 5]\n",
            "3\n",
            "[5]\n",
            "5\n",
            "[]\n",
            "[7]\n",
            "[7, 9]\n",
            "7\n",
            "[7, 9]\n",
            "[7, 9, 4]\n",
            "3\n",
            "[7, 9, 4]\n",
            "7\n",
            "[9, 4]\n"
          ]
        }
      ]
    }
  ]
}