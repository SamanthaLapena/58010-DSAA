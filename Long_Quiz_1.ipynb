{
  "nbformat": 4,
  "nbformat_minor": 0,
  "metadata": {
    "colab": {
      "provenance": []
    },
    "kernelspec": {
      "name": "python3",
      "display_name": "Python 3"
    },
    "language_info": {
      "name": "python"
    }
  },
  "cells": [
    {
      "cell_type": "markdown",
      "source": [
        "1."
      ],
      "metadata": {
        "id": "thAOK5eSQAL7"
      }
    },
    {
      "cell_type": "code",
      "execution_count": null,
      "metadata": {
        "colab": {
          "base_uri": "https://localhost:8080/"
        },
        "id": "EgK-TvVHLi3H",
        "outputId": "342db900-d847-47a2-a873-f96acd793676"
      },
      "outputs": [
        {
          "output_type": "stream",
          "name": "stdout",
          "text": [
            "Enter your name: SAMANTHA JULIANNE LAPEÑA\n",
            "Characters: \n",
            "A\n",
            "Ñ\n",
            "E\n",
            "P\n",
            "A\n",
            "L\n",
            " \n",
            "E\n",
            "N\n",
            "N\n",
            "A\n",
            "I\n",
            "L\n",
            "U\n",
            "J\n",
            " \n",
            "A\n",
            "H\n",
            "T\n",
            "N\n",
            "A\n",
            "M\n",
            "A\n",
            "S\n"
          ]
        }
      ],
      "source": [
        "name = input (\"Enter your name: \")\n",
        "characters = []\n",
        "for name in name:\n",
        "  characters.append(name)\n",
        "print(\"Characters: \")\n",
        "for name in reversed(characters):\n",
        "  print(name)\n"
      ]
    },
    {
      "cell_type": "markdown",
      "source": [
        "2."
      ],
      "metadata": {
        "id": "U909a-HkLmdQ"
      }
    },
    {
      "cell_type": "code",
      "source": [
        "def prime(int):\n",
        "    if int <= 1:\n",
        "        return False\n",
        "    if int <= 3:\n",
        "        return True\n",
        "    if int % 2 == 0 or int % 3 == 0:\n",
        "        return False\n",
        "    n = 5\n",
        "    while n * n <= int:\n",
        "        if int % n == 0 or int % (n + 2) == 0:\n",
        "            return False\n",
        "        n += 6\n",
        "    return True\n",
        "\n",
        "for int in range(1, 11):\n",
        "    if prime(int):\n",
        "        print(f\"{int} = Prime\")\n",
        "    else:\n",
        "        print(f\"{int} = Composite\")\n"
      ],
      "metadata": {
        "colab": {
          "base_uri": "https://localhost:8080/"
        },
        "id": "xqvB6hFfLn6h",
        "outputId": "4b199bef-f53b-4869-da39-c1efdc06c6f6"
      },
      "execution_count": null,
      "outputs": [
        {
          "output_type": "stream",
          "name": "stdout",
          "text": [
            "1 = Composite\n",
            "2 = Prime\n",
            "3 = Prime\n",
            "4 = Composite\n",
            "5 = Prime\n",
            "6 = Composite\n",
            "7 = Prime\n",
            "8 = Composite\n",
            "9 = Composite\n",
            "10 = Composite\n"
          ]
        }
      ]
    }
  ]
}