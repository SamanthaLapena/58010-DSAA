{
  "nbformat": 4,
  "nbformat_minor": 0,
  "metadata": {
    "colab": {
      "provenance": [],
      "authorship_tag": "ABX9TyOA7gUdtir0cVEdmWPSlMU6",
      "include_colab_link": true
    },
    "kernelspec": {
      "name": "python3",
      "display_name": "Python 3"
    },
    "language_info": {
      "name": "python"
    }
  },
  "cells": [
    {
      "cell_type": "markdown",
      "metadata": {
        "id": "view-in-github",
        "colab_type": "text"
      },
      "source": [
        "<a href=\"https://colab.research.google.com/github/SamanthaLapena/58010-DSAA/blob/main/Area_of_a_Circle.ipynb\" target=\"_parent\"><img src=\"https://colab.research.google.com/assets/colab-badge.svg\" alt=\"Open In Colab\"/></a>"
      ]
    },
    {
      "cell_type": "markdown",
      "source": [
        "Create a Python program thatcomputes the area of a circle"
      ],
      "metadata": {
        "id": "uUXlgRbCoulZ"
      }
    },
    {
      "cell_type": "code",
      "execution_count": 1,
      "metadata": {
        "colab": {
          "base_uri": "https://localhost:8080/"
        },
        "id": "0Gx-o2daonp_",
        "outputId": "51e88a80-6c19-4ef0-c48c-82a3175ef184"
      },
      "outputs": [
        {
          "output_type": "stream",
          "name": "stdout",
          "text": [
            "Enter the radius of the circle: 5\n",
            "The area of the circle is  78.5\n"
          ]
        }
      ],
      "source": [
        "radius = float(input(\"Enter the radius of the circle: \"))\n",
        "pi = 3.14\n",
        "area = pi*radius**2\n",
        "print(\"The area of the circle is \", area)"
      ]
    }
  ]
}