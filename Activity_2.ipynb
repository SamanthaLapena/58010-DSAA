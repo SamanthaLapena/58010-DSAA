{
  "nbformat": 4,
  "nbformat_minor": 0,
  "metadata": {
    "colab": {
      "provenance": [],
      "authorship_tag": "ABX9TyMnR1g4ylu7N7ryvaXm8jLP",
      "include_colab_link": true
    },
    "kernelspec": {
      "name": "python3",
      "display_name": "Python 3"
    },
    "language_info": {
      "name": "python"
    }
  },
  "cells": [
    {
      "cell_type": "markdown",
      "metadata": {
        "id": "view-in-github",
        "colab_type": "text"
      },
      "source": [
        "<a href=\"https://colab.research.google.com/github/SamanthaLapena/58010-DSAA/blob/main/Activity_2.ipynb\" target=\"_parent\"><img src=\"https://colab.research.google.com/assets/colab-badge.svg\" alt=\"Open In Colab\"/></a>"
      ]
    },
    {
      "cell_type": "markdown",
      "source": [
        "Write a Python program to create a singly linked list of prime numbers less than 20. By iterating through the list, display all the prime numbers, the head, and the tail of the list"
      ],
      "metadata": {
        "id": "9wMxs77QvgLe"
      }
    },
    {
      "cell_type": "code",
      "source": [
        "class Node:\n",
        "    def __init__(self, data):\n",
        "        self.data = data\n",
        "        self.next = None\n",
        "\n",
        "class LinkedList:\n",
        "    def __init__(self):\n",
        "        self.head = None\n",
        "        self.tail = None\n",
        "\n",
        "    def node(self, data):\n",
        "        node = Node(data)\n",
        "        if self.head is None:\n",
        "            self.head = node\n",
        "            self.tail = node\n",
        "        else:\n",
        "            self.tail.next = node\n",
        "            self.tail = node\n",
        "\n",
        "    def display(self):\n",
        "        current = self.head\n",
        "        while current:\n",
        "            print(current.data, end=\" \")\n",
        "            current = current.next\n",
        "\n",
        "PrimeNumbers = [2, 3, 5, 7, 11, 13, 17]\n",
        "\n",
        "prime_list = LinkedList()\n",
        "for num in PrimeNumbers:\n",
        "    prime_list.node(num)\n",
        "\n",
        "print(\"Prime Numbers less than 20:\", PrimeNumbers)\n",
        "print(\"Head of the List:\", prime_list.head.data)\n",
        "print(\"Tail of the List:\", prime_list.tail.data)"
      ],
      "metadata": {
        "colab": {
          "base_uri": "https://localhost:8080/"
        },
        "id": "dBKiCpNP3tSX",
        "outputId": "dd00e5ba-0e4b-4559-a648-ca30f8233d42"
      },
      "execution_count": 22,
      "outputs": [
        {
          "output_type": "stream",
          "name": "stdout",
          "text": [
            "Prime Numbers less than 20: [2, 3, 5, 7, 11, 13, 17]\n",
            "Head of the List: 2\n",
            "Tail of the List: 17\n"
          ]
        }
      ]
    }
  ]
}