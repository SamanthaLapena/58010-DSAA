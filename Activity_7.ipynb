{
  "nbformat": 4,
  "nbformat_minor": 0,
  "metadata": {
    "colab": {
      "provenance": [],
      "authorship_tag": "ABX9TyPCYigQ20143MMadvlgmQJw",
      "include_colab_link": true
    },
    "kernelspec": {
      "name": "python3",
      "display_name": "Python 3"
    },
    "language_info": {
      "name": "python"
    }
  },
  "cells": [
    {
      "cell_type": "markdown",
      "metadata": {
        "id": "view-in-github",
        "colab_type": "text"
      },
      "source": [
        "<a href=\"https://colab.research.google.com/github/SamanthaLapena/58010-DSAA/blob/main/Activity_7.ipynb\" target=\"_parent\"><img src=\"https://colab.research.google.com/assets/colab-badge.svg\" alt=\"Open In Colab\"/></a>"
      ]
    },
    {
      "cell_type": "markdown",
      "source": [
        "Graph Edges"
      ],
      "metadata": {
        "id": "DRtJivFPpfbB"
      }
    },
    {
      "cell_type": "code",
      "source": [
        "class graph:\n",
        "  def __init__(self,gdict=None):\n",
        "    if gdict is None:\n",
        "      gdict = {}\n",
        "    self.gdict = gdict\n",
        "\n",
        "  def edges(self):\n",
        "    return self.findedges()\n",
        "\n",
        "  def findedges(self):\n",
        "    edgename = []\n",
        "    for vrtx in self.gdict:\n",
        "      for nxtvrtx in self.gdict[vrtx]:\n",
        "        if {nxtvrtx, vrtx} not in edgename:\n",
        "          edgename.append({vrtx, nxtvrtx})\n",
        "    return edgename\n",
        "\n",
        "graph_elements = {\n",
        "    \"q\" : [\"s\",\"t\",\"w\"],\n",
        "    \"r\" : [\"u\", \"v\"],\n",
        "    \"s\" : [\"v\"],\n",
        "    \"t\" : [\"x\",\"y\"],\n",
        "    \"u\" : [\"y\"],\n",
        "    \"v\" : [\"w\"],\n",
        "    \"w\" : [\"s\"],\n",
        "    \"x\" : [\"z\"],\n",
        "    \"y\" : [\"q\"],\n",
        "    \"z\" : [\"x\"]\n",
        "  }\n",
        "\n",
        "g = graph(graph_elements)\n",
        "print(g.edges())"
      ],
      "metadata": {
        "colab": {
          "base_uri": "https://localhost:8080/"
        },
        "id": "NTXp8_f6o0Ia",
        "outputId": "2d7003fa-0d9e-4e70-f252-0088d9b7f7d3"
      },
      "execution_count": 3,
      "outputs": [
        {
          "output_type": "stream",
          "name": "stdout",
          "text": [
            "[{'s', 'q'}, {'t', 'q'}, {'q', 'w'}, {'r', 'u'}, {'r', 'v'}, {'s', 'v'}, {'x', 't'}, {'t', 'y'}, {'y', 'u'}, {'w', 'v'}, {'s', 'w'}, {'x', 'z'}, {'y', 'q'}]\n"
          ]
        }
      ]
    },
    {
      "cell_type": "markdown",
      "source": [
        "Graph Vertices"
      ],
      "metadata": {
        "id": "CyFwbmMVpzKB"
      }
    },
    {
      "cell_type": "code",
      "source": [
        "class graph:\n",
        "  def __init__(self,gdict=None):\n",
        "    if gdict is None:\n",
        "      gdict = []\n",
        "    self.gdict = gdict\n",
        "\n",
        "  def getVertices(self):\n",
        "    return list(self.gdict.keys())\n",
        "\n",
        "graph_elements = {\n",
        "    \"q\" : [\"s\",\"t\",\"w\"],\n",
        "    \"r\" : [\"u\", \"v\"],\n",
        "    \"s\" : [\"v\"],\n",
        "    \"t\" : [\"x\",\"y\"],\n",
        "    \"u\" : [\"y\"],\n",
        "    \"v\" : [\"w\"],\n",
        "    \"w\" : [\"s\"],\n",
        "    \"x\" : [\"z\"],\n",
        "    \"y\" : [\"q\"],\n",
        "    \"z\" : [\"x\"]\n",
        "  }\n",
        "\n",
        "g = graph(graph_elements)\n",
        "print(g.getVertices())"
      ],
      "metadata": {
        "colab": {
          "base_uri": "https://localhost:8080/"
        },
        "id": "ppxVe6itp09S",
        "outputId": "2b39a33d-130a-4bd4-e47e-aa6af75c9ba0"
      },
      "execution_count": 4,
      "outputs": [
        {
          "output_type": "stream",
          "name": "stdout",
          "text": [
            "['q', 'r', 's', 't', 'u', 'v', 'w', 'x', 'y', 'z']\n"
          ]
        }
      ]
    }
  ]
}