{
  "nbformat": 4,
  "nbformat_minor": 0,
  "metadata": {
    "colab": {
      "provenance": [],
      "authorship_tag": "ABX9TyPGyq4MENtQO/6jaVxBGtHa",
      "include_colab_link": true
    },
    "kernelspec": {
      "name": "python3",
      "display_name": "Python 3"
    },
    "language_info": {
      "name": "python"
    }
  },
  "cells": [
    {
      "cell_type": "markdown",
      "metadata": {
        "id": "view-in-github",
        "colab_type": "text"
      },
      "source": [
        "<a href=\"https://colab.research.google.com/github/SamanthaLapena/58010-DSAA/blob/main/Prelim_Exam.ipynb\" target=\"_parent\"><img src=\"https://colab.research.google.com/assets/colab-badge.svg\" alt=\"Open In Colab\"/></a>"
      ]
    },
    {
      "cell_type": "markdown",
      "source": [
        "Create the source code for adding the test scores 26, 49, 98, 87, 62, 75\n",
        "\n",
        "Create a program to sort the test scores in ascending order"
      ],
      "metadata": {
        "id": "zdOyWZEJRyhd"
      }
    },
    {
      "cell_type": "code",
      "execution_count": 5,
      "metadata": {
        "colab": {
          "base_uri": "https://localhost:8080/"
        },
        "id": "AGt3bVsIRx6o",
        "outputId": "ad9f65a4-75bb-43e1-d052-6b294489cb06"
      },
      "outputs": [
        {
          "output_type": "stream",
          "name": "stdout",
          "text": [
            "The total test scores:  397\n",
            "Ascending order: [26, 49, 62, 75, 87, 98]\n"
          ]
        }
      ],
      "source": [
        "score = [26, 49, 98, 87, 62, 75]\n",
        "total = 0\n",
        "for score in score:\n",
        "  if score ++ 0:\n",
        "    total += score\n",
        "print(\"The total test scores: \", total)\n",
        "\n",
        "score = [26, 49, 98, 87, 62, 75]\n",
        "score.sort()\n",
        "print(\"Ascending order:\", score)"
      ]
    }
  ]
}