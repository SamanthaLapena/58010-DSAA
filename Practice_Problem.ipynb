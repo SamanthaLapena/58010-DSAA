{
  "nbformat": 4,
  "nbformat_minor": 0,
  "metadata": {
    "colab": {
      "provenance": [],
      "authorship_tag": "ABX9TyOljT+CQqkp9fEUUcv272o1",
      "include_colab_link": true
    },
    "kernelspec": {
      "name": "python3",
      "display_name": "Python 3"
    },
    "language_info": {
      "name": "python"
    }
  },
  "cells": [
    {
      "cell_type": "markdown",
      "metadata": {
        "id": "view-in-github",
        "colab_type": "text"
      },
      "source": [
        "<a href=\"https://colab.research.google.com/github/SamanthaLapena/58010-DSAA/blob/main/Practice_Problem.ipynb\" target=\"_parent\"><img src=\"https://colab.research.google.com/assets/colab-badge.svg\" alt=\"Open In Colab\"/></a>"
      ]
    },
    {
      "cell_type": "markdown",
      "source": [
        "Design an algorithm and thecorresponding flowchart for adding the testscores as given below if the number is even: 26,49,98,87,62,75"
      ],
      "metadata": {
        "id": "Q_jqNLQxv1Cb"
      }
    },
    {
      "cell_type": "code",
      "source": [
        "score = [26, 49, 98, 87, 62, 75]\n",
        "total = 0\n",
        "for score in score:\n",
        "  if score % 2 == 0:\n",
        "    total += score\n",
        "\n",
        "print(\"The total score of even numbers: \", total)"
      ],
      "metadata": {
        "colab": {
          "base_uri": "https://localhost:8080/"
        },
        "id": "oy58a-Wmv01x",
        "outputId": "36b985f0-bb43-4237-8b10-0736b98b9cf7"
      },
      "execution_count": 4,
      "outputs": [
        {
          "output_type": "stream",
          "name": "stdout",
          "text": [
            "The total score of even numbers:  186\n"
          ]
        }
      ]
    },
    {
      "cell_type": "markdown",
      "source": [
        "Design an algorithm and thecorresponding flowchart for adding the testscores as given below if the number is odd: 26,49,98,87,62,75"
      ],
      "metadata": {
        "id": "_OSxDz1OxbBf"
      }
    },
    {
      "cell_type": "code",
      "source": [
        "score = [26, 49, 98, 87, 62, 75]\n",
        "total = 0\n",
        "for score in score:\n",
        "  if score % 2 == 1:\n",
        "    total += score\n",
        "\n",
        "print(\"The total score of odd numbers: \", total)"
      ],
      "metadata": {
        "colab": {
          "base_uri": "https://localhost:8080/"
        },
        "id": "v3SbYtmXxeCg",
        "outputId": "e4a6e049-f7fe-4a73-dfd6-c44296db6f4f"
      },
      "execution_count": 5,
      "outputs": [
        {
          "output_type": "stream",
          "name": "stdout",
          "text": [
            "The total score of odd numbers:  211\n"
          ]
        }
      ]
    }
  ]
}