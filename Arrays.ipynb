{
  "nbformat": 4,
  "nbformat_minor": 0,
  "metadata": {
    "colab": {
      "provenance": [],
      "authorship_tag": "ABX9TyOVPLOHkVVIlsQV7yrmKDAG",
      "include_colab_link": true
    },
    "kernelspec": {
      "name": "python3",
      "display_name": "Python 3"
    },
    "language_info": {
      "name": "python"
    }
  },
  "cells": [
    {
      "cell_type": "markdown",
      "metadata": {
        "id": "view-in-github",
        "colab_type": "text"
      },
      "source": [
        "<a href=\"https://colab.research.google.com/github/SamanthaLapena/58010-DSAA/blob/main/Arrays.ipynb\" target=\"_parent\"><img src=\"https://colab.research.google.com/assets/colab-badge.svg\" alt=\"Open In Colab\"/></a>"
      ]
    },
    {
      "cell_type": "markdown",
      "source": [
        "Accessing the Elements in the Array"
      ],
      "metadata": {
        "id": "0vfezf_9vB5w"
      }
    },
    {
      "cell_type": "code",
      "source": [
        "animal = [\"cat\", \"dog\", \"fish\"]\n",
        "animal[0]= \"cat\"\n",
        "animal[1] = \"dog\"\n",
        "animal[2] = \"fish\"\n",
        "x = animal[0]\n",
        "print (x)"
      ],
      "metadata": {
        "colab": {
          "base_uri": "https://localhost:8080/"
        },
        "id": "ZyJGWBeUtXzM",
        "outputId": "ce5141da-0647-46f7-a4c7-249c94dd6f2d"
      },
      "execution_count": 16,
      "outputs": [
        {
          "output_type": "stream",
          "name": "stdout",
          "text": [
            "cat\n"
          ]
        }
      ]
    },
    {
      "cell_type": "markdown",
      "source": [
        "Modifying the Elements in the Array"
      ],
      "metadata": {
        "id": "aPqGJ3XivAbh"
      }
    },
    {
      "cell_type": "code",
      "source": [
        "animal = [\"cat\", \"dog\", \"fish\"]\n",
        "animal[0]= \"cat\"\n",
        "animal[1] = \"dog\"\n",
        "animal[2] = \"fish\"\n",
        "animal[0] = \"monkey\"\n",
        "print (x)"
      ],
      "metadata": {
        "colab": {
          "base_uri": "https://localhost:8080/"
        },
        "id": "3z6WLBO8uzZx",
        "outputId": "f42f9c0a-54cf-41c5-95a4-6b6b7dad1370"
      },
      "execution_count": 18,
      "outputs": [
        {
          "output_type": "stream",
          "name": "stdout",
          "text": [
            "cat\n"
          ]
        }
      ]
    },
    {
      "cell_type": "markdown",
      "source": [
        "Length of an Array"
      ],
      "metadata": {
        "id": "PtnW6r7NvKYZ"
      }
    },
    {
      "cell_type": "code",
      "source": [
        "animal = [\"cat\", \"dog\", \"fish\"]\n",
        "animal[0]= \"cat\"\n",
        "animal[1] = \"dog\"\n",
        "animal[2] = \"fish\"\n",
        "x = len(animal)\n",
        "print (x)"
      ],
      "metadata": {
        "colab": {
          "base_uri": "https://localhost:8080/"
        },
        "id": "b9eVj_-nvOAI",
        "outputId": "a00f871e-5900-4060-bbc2-b5a8b0471020"
      },
      "execution_count": 20,
      "outputs": [
        {
          "output_type": "stream",
          "name": "stdout",
          "text": [
            "3\n"
          ]
        }
      ]
    },
    {
      "cell_type": "markdown",
      "source": [
        "Looping Array Elements"
      ],
      "metadata": {
        "id": "ZtYK5grEvZwY"
      }
    },
    {
      "cell_type": "code",
      "source": [
        "animal = [\"cat\", \"dog\", \"fish\"]\n",
        "animal[0]= \"cat\"\n",
        "animal[1] = \"dog\"\n",
        "animal[2] = \"fish\"\n",
        "for x in animal:\n",
        "  print(x)"
      ],
      "metadata": {
        "colab": {
          "base_uri": "https://localhost:8080/"
        },
        "id": "k5Zt3HOWvcLH",
        "outputId": "1f5c640e-3158-4b4c-8671-a10100b1006a"
      },
      "execution_count": 21,
      "outputs": [
        {
          "output_type": "stream",
          "name": "stdout",
          "text": [
            "cat\n",
            "dog\n",
            "fish\n"
          ]
        }
      ]
    },
    {
      "cell_type": "markdown",
      "source": [
        "Adding Elements in the Array"
      ],
      "metadata": {
        "id": "8mpCBVr8vsge"
      }
    },
    {
      "cell_type": "code",
      "source": [
        "animal = [\"cat\", \"dog\", \"fish\"]\n",
        "animal[0]= \"cat\"\n",
        "animal[1] = \"dog\"\n",
        "animal[2] = \"fish\"\n",
        "animal.append (\"monkey\")\n",
        "print(animal)"
      ],
      "metadata": {
        "colab": {
          "base_uri": "https://localhost:8080/"
        },
        "id": "OQh-FzSwvtOO",
        "outputId": "f6b7a084-04a2-4c28-8ff2-085c02864137"
      },
      "execution_count": 25,
      "outputs": [
        {
          "output_type": "stream",
          "name": "stdout",
          "text": [
            "['cat', 'dog', 'fish', 'monkey']\n"
          ]
        }
      ]
    },
    {
      "cell_type": "markdown",
      "source": [
        "Removing an Element in the Array"
      ],
      "metadata": {
        "id": "KiSS5gUMwPCA"
      }
    },
    {
      "cell_type": "code",
      "source": [
        "animal = [\"cat\", \"dog\", \"fish\"]\n",
        "animal[0]= \"cat\"\n",
        "animal[1] = \"dog\"\n",
        "animal[2] = \"fish\"\n",
        "animal.pop (1)\n",
        "print(animal)"
      ],
      "metadata": {
        "colab": {
          "base_uri": "https://localhost:8080/"
        },
        "id": "rjizaInowRpu",
        "outputId": "adb64bbf-6847-42df-99ec-31dfc17331af"
      },
      "execution_count": 31,
      "outputs": [
        {
          "output_type": "stream",
          "name": "stdout",
          "text": [
            "['cat', 'fish']\n"
          ]
        }
      ]
    },
    {
      "cell_type": "markdown",
      "source": [
        "Sorting Elements in the Array"
      ],
      "metadata": {
        "id": "c4jEgQuN1quL"
      }
    },
    {
      "cell_type": "code",
      "source": [
        "animal = [\"dog\", \"fish\", \"cat\"]\n",
        "animal[0]= \"cat\"\n",
        "animal[1] = \"dog\"\n",
        "animal[2] = \"fish\"\n",
        "animal.sort()\n",
        "print(animal)"
      ],
      "metadata": {
        "colab": {
          "base_uri": "https://localhost:8080/"
        },
        "id": "PIgvgNlw1zyL",
        "outputId": "95b78019-390b-4041-cad0-26f8ef327fc4"
      },
      "execution_count": 34,
      "outputs": [
        {
          "output_type": "stream",
          "name": "stdout",
          "text": [
            "['cat', 'dog', 'fish']\n"
          ]
        }
      ]
    }
  ]
}