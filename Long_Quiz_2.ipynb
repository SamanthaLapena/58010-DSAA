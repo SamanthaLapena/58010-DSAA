{
  "nbformat": 4,
  "nbformat_minor": 0,
  "metadata": {
    "colab": {
      "provenance": [],
      "authorship_tag": "ABX9TyOfm0HhtZp8XwhoHwjF9Msz",
      "include_colab_link": true
    },
    "kernelspec": {
      "name": "python3",
      "display_name": "Python 3"
    },
    "language_info": {
      "name": "python"
    }
  },
  "cells": [
    {
      "cell_type": "markdown",
      "metadata": {
        "id": "view-in-github",
        "colab_type": "text"
      },
      "source": [
        "<a href=\"https://colab.research.google.com/github/SamanthaLapena/58010-DSAA/blob/main/Long_Quiz_2.ipynb\" target=\"_parent\"><img src=\"https://colab.research.google.com/assets/colab-badge.svg\" alt=\"Open In Colab\"/></a>"
      ]
    },
    {
      "cell_type": "markdown",
      "source": [
        "EDGES"
      ],
      "metadata": {
        "id": "fUNkYtQ5ME1N"
      }
    },
    {
      "cell_type": "code",
      "execution_count": 1,
      "metadata": {
        "colab": {
          "base_uri": "https://localhost:8080/"
        },
        "id": "_T7IhrOcMCDr",
        "outputId": "b4dca922-1670-4277-f4cf-7a387a986fb5"
      },
      "outputs": [
        {
          "output_type": "stream",
          "name": "stdout",
          "text": [
            "[{'I', 'E'}, {'E', 'K'}, {'E', 'M'}, {'F', 'I'}, {'F', 'J'}, {'F', 'K'}, {'H', 'I'}, {'H', 'J'}, {'H', 'K'}, {'E', 'J'}, {'F', 'P'}]\n"
          ]
        }
      ],
      "source": [
        "class graph:\n",
        "  def __init__(self,gdict=None):\n",
        "    if gdict is None:\n",
        "      gdict = {}\n",
        "    self.gdict = gdict\n",
        "\n",
        "  def edges(self):\n",
        "    return self.findedges()\n",
        "\n",
        "  def findedges(self):\n",
        "    edgename = []\n",
        "    for vrtx in self.gdict:\n",
        "      for nxtvrtx in self.gdict[vrtx]:\n",
        "        if {nxtvrtx, vrtx} not in edgename:\n",
        "          edgename.append({vrtx, nxtvrtx})\n",
        "    return edgename\n",
        "\n",
        "graph_elements = {\n",
        "    \"E\" : [\"I\",\"K\",\"M\"],\n",
        "    \"F\" : [\"I\",\"J\",\"K\"],\n",
        "    \"H\" : [\"I\",\"J\",\"K\"],\n",
        "    \"I\" : [\"E\",\"F\",\"H\"],\n",
        "    \"J\" : [\"E\",\"F\",\"H\"],\n",
        "    \"K\" : [\"E\",\"F\",\"H\"],\n",
        "    \"M\" : [\"E\"],\n",
        "    \"P\" : [\"F\"],\n",
        "  }\n",
        "\n",
        "g = graph(graph_elements)\n",
        "print(g.edges())"
      ]
    },
    {
      "cell_type": "markdown",
      "source": [
        "VERTICES"
      ],
      "metadata": {
        "id": "VbqvNb5YMRwM"
      }
    },
    {
      "cell_type": "code",
      "source": [
        "class graph:\n",
        "  def __init__(self,gdict=None):\n",
        "    if gdict is None:\n",
        "      gdict = []\n",
        "    self.gdict = gdict\n",
        "\n",
        "  def getVertices(self):\n",
        "    return list(self.gdict.keys())\n",
        "\n",
        "graph_elements = {\n",
        "    \"E\" : [\"I\",\"K\",\"M\"],\n",
        "    \"F\" : [\"I\",\"J\",\"K\"],\n",
        "    \"H\" : [\"I\",\"J\",\"K\"],\n",
        "    \"I\" : [\"E\",\"F\",\"H\"],\n",
        "    \"J\" : [\"E\",\"F\",\"H\"],\n",
        "    \"K\" : [\"E\",\"F\",\"H\"],\n",
        "    \"M\" : [\"E\"],\n",
        "    \"P\" : [\"F\"],\n",
        "  }\n",
        "\n",
        "g = graph(graph_elements)\n",
        "print(g.getVertices())"
      ],
      "metadata": {
        "colab": {
          "base_uri": "https://localhost:8080/"
        },
        "id": "r7CzhmwdM-1P",
        "outputId": "54be5e18-7297-4ad0-8d76-8df06785039d"
      },
      "execution_count": 2,
      "outputs": [
        {
          "output_type": "stream",
          "name": "stdout",
          "text": [
            "['E', 'F', 'H', 'I', 'J', 'K', 'M', 'P']\n"
          ]
        }
      ]
    }
  ]
}